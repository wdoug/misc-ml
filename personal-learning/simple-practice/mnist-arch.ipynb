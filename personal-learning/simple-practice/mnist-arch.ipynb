{
 "cells": [
  {
   "cell_type": "markdown",
   "metadata": {},
   "source": [
    "# MNIST arch exploration"
   ]
  },
  {
   "cell_type": "code",
   "execution_count": 1,
   "metadata": {},
   "outputs": [],
   "source": [
    "%reload_ext autoreload\n",
    "%autoreload 2\n",
    "%matplotlib inline"
   ]
  },
  {
   "cell_type": "code",
   "execution_count": 2,
   "metadata": {},
   "outputs": [],
   "source": [
    "from fastai.vision import *"
   ]
  },
  {
   "cell_type": "code",
   "execution_count": 3,
   "metadata": {},
   "outputs": [],
   "source": [
    "from fastai.utils.mem import *"
   ]
  },
  {
   "cell_type": "code",
   "execution_count": 66,
   "metadata": {},
   "outputs": [
    {
     "data": {
      "text/plain": [
       "281"
      ]
     },
     "execution_count": 66,
     "metadata": {},
     "output_type": "execute_result"
    }
   ],
   "source": [
    "gpu_mem_get_free_no_cache()"
   ]
  },
  {
   "cell_type": "code",
   "execution_count": 5,
   "metadata": {},
   "outputs": [],
   "source": [
    "path = untar_data(URLs.MNIST)"
   ]
  },
  {
   "cell_type": "code",
   "execution_count": 6,
   "metadata": {},
   "outputs": [
    {
     "data": {
      "text/plain": [
       "[PosixPath('/home/jupyter/.fastai/data/mnist_png/models'),\n",
       " PosixPath('/home/jupyter/.fastai/data/mnist_png/training'),\n",
       " PosixPath('/home/jupyter/.fastai/data/mnist_png/testing')]"
      ]
     },
     "execution_count": 6,
     "metadata": {},
     "output_type": "execute_result"
    }
   ],
   "source": [
    "path.ls()"
   ]
  },
  {
   "cell_type": "code",
   "execution_count": 7,
   "metadata": {},
   "outputs": [
    {
     "data": {
      "text/plain": [
       "[PosixPath('/home/jupyter/.fastai/data/mnist_png/training/9'),\n",
       " PosixPath('/home/jupyter/.fastai/data/mnist_png/training/7'),\n",
       " PosixPath('/home/jupyter/.fastai/data/mnist_png/training/2'),\n",
       " PosixPath('/home/jupyter/.fastai/data/mnist_png/training/6'),\n",
       " PosixPath('/home/jupyter/.fastai/data/mnist_png/training/1'),\n",
       " PosixPath('/home/jupyter/.fastai/data/mnist_png/training/4'),\n",
       " PosixPath('/home/jupyter/.fastai/data/mnist_png/training/5'),\n",
       " PosixPath('/home/jupyter/.fastai/data/mnist_png/training/0'),\n",
       " PosixPath('/home/jupyter/.fastai/data/mnist_png/training/8'),\n",
       " PosixPath('/home/jupyter/.fastai/data/mnist_png/training/3')]"
      ]
     },
     "execution_count": 7,
     "metadata": {},
     "output_type": "execute_result"
    }
   ],
   "source": [
    "(path/'training').ls()"
   ]
  },
  {
   "cell_type": "code",
   "execution_count": 8,
   "metadata": {},
   "outputs": [
    {
     "data": {
      "text/plain": [
       "[PosixPath('/home/jupyter/.fastai/data/mnist_png/testing/9'),\n",
       " PosixPath('/home/jupyter/.fastai/data/mnist_png/testing/7'),\n",
       " PosixPath('/home/jupyter/.fastai/data/mnist_png/testing/2'),\n",
       " PosixPath('/home/jupyter/.fastai/data/mnist_png/testing/6'),\n",
       " PosixPath('/home/jupyter/.fastai/data/mnist_png/testing/1'),\n",
       " PosixPath('/home/jupyter/.fastai/data/mnist_png/testing/4'),\n",
       " PosixPath('/home/jupyter/.fastai/data/mnist_png/testing/5'),\n",
       " PosixPath('/home/jupyter/.fastai/data/mnist_png/testing/0'),\n",
       " PosixPath('/home/jupyter/.fastai/data/mnist_png/testing/8'),\n",
       " PosixPath('/home/jupyter/.fastai/data/mnist_png/testing/3')]"
      ]
     },
     "execution_count": 8,
     "metadata": {},
     "output_type": "execute_result"
    }
   ],
   "source": [
    "(path/'testing').ls()"
   ]
  },
  {
   "cell_type": "code",
   "execution_count": 9,
   "metadata": {},
   "outputs": [],
   "source": [
    "data = ImageDataBunch.from_folder(path, train='training', valid='testing')"
   ]
  },
  {
   "cell_type": "code",
   "execution_count": 10,
   "metadata": {},
   "outputs": [
    {
     "data": {
      "image/png": "[encoded data removed]",
      "text/plain": [
       "<Figure size 360x360 with 9 Axes>"
      ]
     },
     "metadata": {
      "needs_background": "light"
     },
     "output_type": "display_data"
    }
   ],
   "source": [
    "data.show_batch(3, figsize=(5,5))"
   ]
  },
  {
   "cell_type": "code",
   "execution_count": 11,
   "metadata": {},
   "outputs": [],
   "source": [
    "# data.normalize()"
   ]
  },
  {
   "cell_type": "code",
   "execution_count": 12,
   "metadata": {},
   "outputs": [
    {
     "data": {
      "text/plain": [
       "torch.Size([64, 3, 28, 28])"
      ]
     },
     "execution_count": 12,
     "metadata": {},
     "output_type": "execute_result"
    }
   ],
   "source": [
    "data.one_batch()[0].shape"
   ]
  },
  {
   "cell_type": "code",
   "execution_count": 15,
   "metadata": {},
   "outputs": [
    {
     "data": {
      "text/plain": [
       "fastai.vision.data.ImageDataBunch"
      ]
     },
     "execution_count": 15,
     "metadata": {},
     "output_type": "execute_result"
    }
   ],
   "source": [
    "type(data)"
   ]
  },
  {
   "cell_type": "code",
   "execution_count": 18,
   "metadata": {},
   "outputs": [
    {
     "data": {
      "text/plain": [
       "2"
      ]
     },
     "execution_count": 18,
     "metadata": {},
     "output_type": "execute_result"
    }
   ],
   "source": [
    "1 + 1"
   ]
  },
  {
   "cell_type": "code",
   "execution_count": 15,
   "metadata": {},
   "outputs": [],
   "source": [
    "def conv(i, o):\n",
    "    return nn.Conv2d(i, o, kernel_size=3, stride=2, padding=1)"
   ]
  },
  {
   "cell_type": "code",
   "execution_count": 36,
   "metadata": {},
   "outputs": [],
   "source": [
    "arch = nn.Sequential(\n",
    "    conv(3, 6), # 14\n",
    "#     nn.BatchNorm2d(6),\n",
    "    nn.ReLU(),\n",
    "    conv(6, 12), # 7\n",
    "#     nn.BatchNorm2d(12),\n",
    "    nn.ReLU(),\n",
    "    conv(12, 24), # 4\n",
    "#     nn.BatchNorm2d(24),\n",
    "    nn.ReLU(),\n",
    "    conv(24, 10), # 2\n",
    "#     nn.BatchNorm2d(10),\n",
    "    Flatten()\n",
    ")"
   ]
  },
  {
   "cell_type": "code",
   "execution_count": 28,
   "metadata": {},
   "outputs": [
    {
     "data": {
      "text/plain": [
       "Sequential(\n",
       "  (0): Conv2d(3, 6, kernel_size=(3, 3), stride=(2, 2), padding=(1, 1))\n",
       "  (1): BatchNorm2d(6, eps=1e-05, momentum=0.1, affine=True, track_running_stats=True)\n",
       "  (2): ReLU()\n",
       "  (3): Conv2d(6, 12, kernel_size=(3, 3), stride=(2, 2), padding=(1, 1))\n",
       "  (4): BatchNorm2d(12, eps=1e-05, momentum=0.1, affine=True, track_running_stats=True)\n",
       "  (5): ReLU()\n",
       "  (6): Conv2d(12, 24, kernel_size=(3, 3), stride=(2, 2), padding=(1, 1))\n",
       "  (7): BatchNorm2d(24, eps=1e-05, momentum=0.1, affine=True, track_running_stats=True)\n",
       "  (8): ReLU()\n",
       "  (9): Conv2d(24, 10, kernel_size=(3, 3), stride=(2, 2), padding=(1, 1))\n",
       "  (10): BatchNorm2d(10, eps=1e-05, momentum=0.1, affine=True, track_running_stats=True)\n",
       "  (11): Flatten()\n",
       ")"
      ]
     },
     "execution_count": 28,
     "metadata": {},
     "output_type": "execute_result"
    }
   ],
   "source": [
    "arch"
   ]
  },
  {
   "cell_type": "code",
   "execution_count": 37,
   "metadata": {},
   "outputs": [],
   "source": [
    "learn = Learner(data, arch, loss_func=nn.CrossEntropyLoss(), metrics=accuracy)"
   ]
  },
  {
   "cell_type": "code",
   "execution_count": 38,
   "metadata": {},
   "outputs": [
    {
     "data": {
      "text/html": [],
      "text/plain": [
       "<IPython.core.display.HTML object>"
      ]
     },
     "metadata": {},
     "output_type": "display_data"
    },
    {
     "name": "stdout",
     "output_type": "stream",
     "text": [
      "LR Finder is complete, type {learner_name}.recorder.plot() to see the graph.\n"
     ]
    }
   ],
   "source": [
    "learn.lr_find()"
   ]
  },
  {
   "cell_type": "code",
   "execution_count": 39,
   "metadata": {},
   "outputs": [
    {
     "data": {
      "image/png": "[encoded data removed]",
      "text/plain": [
       "<Figure size 432x288 with 1 Axes>"
      ]
     },
     "metadata": {
      "needs_background": "light"
     },
     "output_type": "display_data"
    }
   ],
   "source": [
    "learn.recorder.plot()"
   ]
  },
  {
   "cell_type": "code",
   "execution_count": 40,
   "metadata": {},
   "outputs": [
    {
     "data": {
      "text/html": [
       "Total time: 00:09 <p><table style='width:375px; margin-bottom:10px'>\n",
       "  <tr>\n",
       "    <th>epoch</th>\n",
       "    <th>train_loss</th>\n",
       "    <th>valid_loss</th>\n",
       "    <th>accuracy</th>\n",
       "    <th>time</th>\n",
       "  </tr>\n",
       "  <tr>\n",
       "    <th>1</th>\n",
       "    <th>0.311138</th>\n",
       "    <th>0.285822</th>\n",
       "    <th>0.911900</th>\n",
       "    <th>00:09</th>\n",
       "  </tr>\n",
       "</table>\n"
      ],
      "text/plain": [
       "<IPython.core.display.HTML object>"
      ]
     },
     "metadata": {},
     "output_type": "display_data"
    }
   ],
   "source": [
    "learn.fit_one_cycle(1, 1e-1)"
   ]
  },
  {
   "cell_type": "code",
   "execution_count": 42,
   "metadata": {},
   "outputs": [
    {
     "name": "stdout",
     "output_type": "stream",
     "text": [
      "======================================================================\n",
      "Layer (type)         Output Shape         Param #    Trainable \n",
      "======================================================================\n",
      "Conv2d               [1, 6, 14, 14]       168        True      \n",
      "______________________________________________________________________\n",
      "ReLU                 [1, 6, 14, 14]       0          False     \n",
      "______________________________________________________________________\n",
      "Conv2d               [1, 12, 7, 7]        660        True      \n",
      "______________________________________________________________________\n",
      "ReLU                 [1, 12, 7, 7]        0          False     \n",
      "______________________________________________________________________\n",
      "Conv2d               [1, 24, 4, 4]        2,616      True      \n",
      "______________________________________________________________________\n",
      "ReLU                 [1, 24, 4, 4]        0          False     \n",
      "______________________________________________________________________\n",
      "Conv2d               [1, 10, 2, 2]        2,170      True      \n",
      "______________________________________________________________________\n",
      "Flatten              [1, 40]              0          False     \n",
      "______________________________________________________________________\n",
      "\n",
      "Total params: 5,614\n",
      "Total trainable params: 5,614\n",
      "Total non-trainable params: 0\n",
      "\n"
     ]
    }
   ],
   "source": [
    "print(learn.summary())"
   ]
  },
  {
   "cell_type": "code",
   "execution_count": 47,
   "metadata": {},
   "outputs": [],
   "source": [
    "arch = nn.Sequential(\n",
    "    conv(3, 6), # 14\n",
    "    nn.BatchNorm2d(6),\n",
    "    nn.ReLU(),\n",
    "    conv(6, 12), # 7\n",
    "    nn.BatchNorm2d(12),\n",
    "    nn.ReLU(),\n",
    "    conv(12, 24), # 4\n",
    "    nn.BatchNorm2d(24),\n",
    "    nn.ReLU(),\n",
    "    conv(24, 24), # 2\n",
    "    nn.BatchNorm2d(24),\n",
    "    nn.ReLU(),\n",
    "    conv(24, 10), # 1\n",
    "    nn.BatchNorm2d(10),\n",
    "    Flatten()\n",
    ")"
   ]
  },
  {
   "cell_type": "code",
   "execution_count": 48,
   "metadata": {},
   "outputs": [
    {
     "data": {
      "text/html": [],
      "text/plain": [
       "<IPython.core.display.HTML object>"
      ]
     },
     "metadata": {},
     "output_type": "display_data"
    },
    {
     "name": "stdout",
     "output_type": "stream",
     "text": [
      "LR Finder is complete, type {learner_name}.recorder.plot() to see the graph.\n"
     ]
    },
    {
     "data": {
      "image/png": "[encoded data removed]",
      "text/plain": [
       "<Figure size 432x288 with 1 Axes>"
      ]
     },
     "metadata": {
      "needs_background": "light"
     },
     "output_type": "display_data"
    }
   ],
   "source": [
    "learn = Learner(data, arch, loss_func=nn.CrossEntropyLoss(), metrics=accuracy)\n",
    "learn.lr_find()\n",
    "learn.recorder.plot()"
   ]
  },
  {
   "cell_type": "code",
   "execution_count": 50,
   "metadata": {},
   "outputs": [
    {
     "data": {
      "text/html": [
       "Total time: 00:12 <p><table style='width:375px; margin-bottom:10px'>\n",
       "  <tr>\n",
       "    <th>epoch</th>\n",
       "    <th>train_loss</th>\n",
       "    <th>valid_loss</th>\n",
       "    <th>accuracy</th>\n",
       "    <th>time</th>\n",
       "  </tr>\n",
       "  <tr>\n",
       "    <th>1</th>\n",
       "    <th>0.092539</th>\n",
       "    <th>0.054598</th>\n",
       "    <th>0.981200</th>\n",
       "    <th>00:12</th>\n",
       "  </tr>\n",
       "</table>\n"
      ],
      "text/plain": [
       "<IPython.core.display.HTML object>"
      ]
     },
     "metadata": {},
     "output_type": "display_data"
    }
   ],
   "source": [
    "learn.fit_one_cycle(1, 3e-1)"
   ]
  },
  {
   "cell_type": "code",
   "execution_count": 51,
   "metadata": {},
   "outputs": [
    {
     "name": "stdout",
     "output_type": "stream",
     "text": [
      "======================================================================\n",
      "Layer (type)         Output Shape         Param #    Trainable \n",
      "======================================================================\n",
      "Conv2d               [1, 6, 14, 14]       168        True      \n",
      "______________________________________________________________________\n",
      "BatchNorm2d          [1, 6, 14, 14]       12         True      \n",
      "______________________________________________________________________\n",
      "ReLU                 [1, 6, 14, 14]       0          False     \n",
      "______________________________________________________________________\n",
      "Conv2d               [1, 12, 7, 7]        660        True      \n",
      "______________________________________________________________________\n",
      "BatchNorm2d          [1, 12, 7, 7]        24         True      \n",
      "______________________________________________________________________\n",
      "ReLU                 [1, 12, 7, 7]        0          False     \n",
      "______________________________________________________________________\n",
      "Conv2d               [1, 24, 4, 4]        2,616      True      \n",
      "______________________________________________________________________\n",
      "BatchNorm2d          [1, 24, 4, 4]        48         True      \n",
      "______________________________________________________________________\n",
      "ReLU                 [1, 24, 4, 4]        0          False     \n",
      "______________________________________________________________________\n",
      "Conv2d               [1, 24, 2, 2]        5,208      True      \n",
      "______________________________________________________________________\n",
      "BatchNorm2d          [1, 24, 2, 2]        48         True      \n",
      "______________________________________________________________________\n",
      "ReLU                 [1, 24, 2, 2]        0          False     \n",
      "______________________________________________________________________\n",
      "Conv2d               [1, 10, 1, 1]        2,170      True      \n",
      "______________________________________________________________________\n",
      "BatchNorm2d          [1, 10, 1, 1]        20         True      \n",
      "______________________________________________________________________\n",
      "Flatten              [1, 10]              0          False     \n",
      "______________________________________________________________________\n",
      "\n",
      "Total params: 10,974\n",
      "Total trainable params: 10,974\n",
      "Total non-trainable params: 0\n",
      "\n"
     ]
    }
   ],
   "source": [
    "print(learn.summary())"
   ]
  },
  {
   "cell_type": "code",
   "execution_count": 52,
   "metadata": {},
   "outputs": [],
   "source": [
    "arch = nn.Sequential(\n",
    "    conv_layer(3, 6, stride=2), # 14\n",
    "    conv_layer(6, 12, stride=2), # 7\n",
    "    conv_layer(12, 24, stride=2), # 4\n",
    "    conv_layer(24, 24, stride=2), # 2\n",
    "    conv_layer(24, 10, stride=2), # 1\n",
    "    Flatten()\n",
    ")"
   ]
  },
  {
   "cell_type": "code",
   "execution_count": 53,
   "metadata": {},
   "outputs": [
    {
     "data": {
      "text/html": [],
      "text/plain": [
       "<IPython.core.display.HTML object>"
      ]
     },
     "metadata": {},
     "output_type": "display_data"
    },
    {
     "name": "stdout",
     "output_type": "stream",
     "text": [
      "LR Finder is complete, type {learner_name}.recorder.plot() to see the graph.\n"
     ]
    },
    {
     "data": {
      "image/png": "[encoded data removed]",
      "text/plain": [
       "<Figure size 432x288 with 1 Axes>"
      ]
     },
     "metadata": {
      "needs_background": "light"
     },
     "output_type": "display_data"
    }
   ],
   "source": [
    "learn = Learner(data, arch, loss_func=nn.CrossEntropyLoss(), metrics=accuracy)\n",
    "learn.lr_find()\n",
    "learn.recorder.plot()"
   ]
  },
  {
   "cell_type": "code",
   "execution_count": 54,
   "metadata": {},
   "outputs": [
    {
     "data": {
      "text/html": [
       "Total time: 00:12 <p><table style='width:375px; margin-bottom:10px'>\n",
       "  <tr>\n",
       "    <th>epoch</th>\n",
       "    <th>train_loss</th>\n",
       "    <th>valid_loss</th>\n",
       "    <th>accuracy</th>\n",
       "    <th>time</th>\n",
       "  </tr>\n",
       "  <tr>\n",
       "    <th>1</th>\n",
       "    <th>0.103678</th>\n",
       "    <th>0.057507</th>\n",
       "    <th>0.981200</th>\n",
       "    <th>00:12</th>\n",
       "  </tr>\n",
       "</table>\n"
      ],
      "text/plain": [
       "<IPython.core.display.HTML object>"
      ]
     },
     "metadata": {},
     "output_type": "display_data"
    }
   ],
   "source": [
    "learn.fit_one_cycle(1, 3e-1)"
   ]
  },
  {
   "cell_type": "code",
   "execution_count": 55,
   "metadata": {},
   "outputs": [
    {
     "data": {
      "text/html": [
       "Total time: 00:59 <p><table style='width:375px; margin-bottom:10px'>\n",
       "  <tr>\n",
       "    <th>epoch</th>\n",
       "    <th>train_loss</th>\n",
       "    <th>valid_loss</th>\n",
       "    <th>accuracy</th>\n",
       "    <th>time</th>\n",
       "  </tr>\n",
       "  <tr>\n",
       "    <th>1</th>\n",
       "    <th>0.190102</th>\n",
       "    <th>0.166092</th>\n",
       "    <th>0.946900</th>\n",
       "    <th>00:11</th>\n",
       "  </tr>\n",
       "  <tr>\n",
       "    <th>2</th>\n",
       "    <th>0.180216</th>\n",
       "    <th>0.179625</th>\n",
       "    <th>0.949000</th>\n",
       "    <th>00:11</th>\n",
       "  </tr>\n",
       "  <tr>\n",
       "    <th>3</th>\n",
       "    <th>0.150205</th>\n",
       "    <th>0.127847</th>\n",
       "    <th>0.959700</th>\n",
       "    <th>00:11</th>\n",
       "  </tr>\n",
       "  <tr>\n",
       "    <th>4</th>\n",
       "    <th>0.078240</th>\n",
       "    <th>0.074317</th>\n",
       "    <th>0.976200</th>\n",
       "    <th>00:11</th>\n",
       "  </tr>\n",
       "  <tr>\n",
       "    <th>5</th>\n",
       "    <th>0.046682</th>\n",
       "    <th>0.037114</th>\n",
       "    <th>0.988300</th>\n",
       "    <th>00:11</th>\n",
       "  </tr>\n",
       "</table>\n"
      ],
      "text/plain": [
       "<IPython.core.display.HTML object>"
      ]
     },
     "metadata": {},
     "output_type": "display_data"
    }
   ],
   "source": [
    "learn.fit_one_cycle(5, 3e-1)"
   ]
  },
  {
   "cell_type": "code",
   "execution_count": 56,
   "metadata": {},
   "outputs": [
    {
     "data": {
      "image/png": "[encoded data removed]",
      "text/plain": [
       "<Figure size 432x288 with 1 Axes>"
      ]
     },
     "metadata": {
      "needs_background": "light"
     },
     "output_type": "display_data"
    }
   ],
   "source": [
    "learn.recorder.plot_losses()"
   ]
  },
  {
   "cell_type": "code",
   "execution_count": 57,
   "metadata": {},
   "outputs": [
    {
     "data": {
      "text/html": [
       "Total time: 00:58 <p><table style='width:375px; margin-bottom:10px'>\n",
       "  <tr>\n",
       "    <th>epoch</th>\n",
       "    <th>train_loss</th>\n",
       "    <th>valid_loss</th>\n",
       "    <th>accuracy</th>\n",
       "    <th>time</th>\n",
       "  </tr>\n",
       "  <tr>\n",
       "    <th>1</th>\n",
       "    <th>0.057998</th>\n",
       "    <th>0.042857</th>\n",
       "    <th>0.987500</th>\n",
       "    <th>00:11</th>\n",
       "  </tr>\n",
       "  <tr>\n",
       "    <th>2</th>\n",
       "    <th>0.061342</th>\n",
       "    <th>0.048162</th>\n",
       "    <th>0.985000</th>\n",
       "    <th>00:11</th>\n",
       "  </tr>\n",
       "  <tr>\n",
       "    <th>3</th>\n",
       "    <th>0.050660</th>\n",
       "    <th>0.044850</th>\n",
       "    <th>0.987300</th>\n",
       "    <th>00:11</th>\n",
       "  </tr>\n",
       "  <tr>\n",
       "    <th>4</th>\n",
       "    <th>0.031611</th>\n",
       "    <th>0.035720</th>\n",
       "    <th>0.989000</th>\n",
       "    <th>00:11</th>\n",
       "  </tr>\n",
       "  <tr>\n",
       "    <th>5</th>\n",
       "    <th>0.020141</th>\n",
       "    <th>0.034272</th>\n",
       "    <th>0.990300</th>\n",
       "    <th>00:11</th>\n",
       "  </tr>\n",
       "</table>\n"
      ],
      "text/plain": [
       "<IPython.core.display.HTML object>"
      ]
     },
     "metadata": {},
     "output_type": "display_data"
    }
   ],
   "source": [
    "learn.fit_one_cycle(5, 3e-2)"
   ]
  },
  {
   "cell_type": "code",
   "execution_count": 58,
   "metadata": {},
   "outputs": [
    {
     "data": {
      "image/png": "[encoded data removed]",
      "text/plain": [
       "<Figure size 432x288 with 1 Axes>"
      ]
     },
     "metadata": {
      "needs_background": "light"
     },
     "output_type": "display_data"
    }
   ],
   "source": [
    "learn.recorder.plot_losses()"
   ]
  },
  {
   "cell_type": "code",
   "execution_count": 59,
   "metadata": {},
   "outputs": [],
   "source": [
    "class ResBlock(nn.Module):\n",
    "    def __init__(self, nf):\n",
    "        super().__init__()\n",
    "        self.conv1 = conv_layer(nf, nf)\n",
    "        self.conv2 = conv_layer(nf, nf)\n",
    "        \n",
    "    def forward(self, x):\n",
    "        return x + self.conv1(self.conv2(x))"
   ]
  },
  {
   "cell_type": "code",
   "execution_count": 60,
   "metadata": {},
   "outputs": [],
   "source": [
    "arch = nn.Sequential(\n",
    "    conv_layer(3, 6, stride=2), # 14\n",
    "    ResBlock(6),\n",
    "    conv_layer(6, 12, stride=2), # 7\n",
    "    ResBlock(12),\n",
    "    conv_layer(12, 24, stride=2), # 4\n",
    "    ResBlock(24),\n",
    "    conv_layer(24, 24, stride=2), # 2\n",
    "    ResBlock(24),\n",
    "    conv_layer(24, 10, stride=2), # 1\n",
    "    ResBlock(10),\n",
    "    Flatten()\n",
    ")"
   ]
  },
  {
   "cell_type": "code",
   "execution_count": 61,
   "metadata": {},
   "outputs": [
    {
     "data": {
      "text/html": [],
      "text/plain": [
       "<IPython.core.display.HTML object>"
      ]
     },
     "metadata": {},
     "output_type": "display_data"
    },
    {
     "name": "stderr",
     "output_type": "stream",
     "text": [
      "/opt/anaconda3/lib/python3.7/site-packages/torch/serialization.py:251: UserWarning: Couldn't retrieve source code for container of type ResBlock. It won't be checked for correctness upon loading.\n",
      "  \"type \" + obj.__name__ + \". It won't be checked \"\n"
     ]
    },
    {
     "name": "stdout",
     "output_type": "stream",
     "text": [
      "LR Finder is complete, type {learner_name}.recorder.plot() to see the graph.\n"
     ]
    },
    {
     "data": {
      "image/png": "[encoded data removed]",
      "text/plain": [
       "<Figure size 432x288 with 1 Axes>"
      ]
     },
     "metadata": {
      "needs_background": "light"
     },
     "output_type": "display_data"
    }
   ],
   "source": [
    "learn = Learner(data, arch, loss_func=nn.CrossEntropyLoss(), metrics=accuracy)\n",
    "learn.lr_find()\n",
    "learn.recorder.plot()"
   ]
  },
  {
   "cell_type": "code",
   "execution_count": 62,
   "metadata": {},
   "outputs": [
    {
     "data": {
      "text/html": [
       "Total time: 00:15 <p><table style='width:375px; margin-bottom:10px'>\n",
       "  <tr>\n",
       "    <th>epoch</th>\n",
       "    <th>train_loss</th>\n",
       "    <th>valid_loss</th>\n",
       "    <th>accuracy</th>\n",
       "    <th>time</th>\n",
       "  </tr>\n",
       "  <tr>\n",
       "    <th>1</th>\n",
       "    <th>0.077223</th>\n",
       "    <th>0.049831</th>\n",
       "    <th>0.983400</th>\n",
       "    <th>00:15</th>\n",
       "  </tr>\n",
       "</table>\n"
      ],
      "text/plain": [
       "<IPython.core.display.HTML object>"
      ]
     },
     "metadata": {},
     "output_type": "display_data"
    }
   ],
   "source": [
    "learn.fit_one_cycle(1, 3e-1)"
   ]
  },
  {
   "cell_type": "code",
   "execution_count": 63,
   "metadata": {},
   "outputs": [
    {
     "name": "stdout",
     "output_type": "stream",
     "text": [
      "======================================================================\n",
      "Layer (type)         Output Shape         Param #    Trainable \n",
      "======================================================================\n",
      "Conv2d               [1, 6, 14, 14]       162        True      \n",
      "______________________________________________________________________\n",
      "ReLU                 [1, 6, 14, 14]       0          False     \n",
      "______________________________________________________________________\n",
      "BatchNorm2d          [1, 6, 14, 14]       12         True      \n",
      "______________________________________________________________________\n",
      "Conv2d               [1, 6, 14, 14]       324        True      \n",
      "______________________________________________________________________\n",
      "ReLU                 [1, 6, 14, 14]       0          False     \n",
      "______________________________________________________________________\n",
      "BatchNorm2d          [1, 6, 14, 14]       12         True      \n",
      "______________________________________________________________________\n",
      "Conv2d               [1, 6, 14, 14]       324        True      \n",
      "______________________________________________________________________\n",
      "ReLU                 [1, 6, 14, 14]       0          False     \n",
      "______________________________________________________________________\n",
      "BatchNorm2d          [1, 6, 14, 14]       12         True      \n",
      "______________________________________________________________________\n",
      "Conv2d               [1, 12, 7, 7]        648        True      \n",
      "______________________________________________________________________\n",
      "ReLU                 [1, 12, 7, 7]        0          False     \n",
      "______________________________________________________________________\n",
      "BatchNorm2d          [1, 12, 7, 7]        24         True      \n",
      "______________________________________________________________________\n",
      "Conv2d               [1, 12, 7, 7]        1,296      True      \n",
      "______________________________________________________________________\n",
      "ReLU                 [1, 12, 7, 7]        0          False     \n",
      "______________________________________________________________________\n",
      "BatchNorm2d          [1, 12, 7, 7]        24         True      \n",
      "______________________________________________________________________\n",
      "Conv2d               [1, 12, 7, 7]        1,296      True      \n",
      "______________________________________________________________________\n",
      "ReLU                 [1, 12, 7, 7]        0          False     \n",
      "______________________________________________________________________\n",
      "BatchNorm2d          [1, 12, 7, 7]        24         True      \n",
      "______________________________________________________________________\n",
      "Conv2d               [1, 24, 4, 4]        2,592      True      \n",
      "______________________________________________________________________\n",
      "ReLU                 [1, 24, 4, 4]        0          False     \n",
      "______________________________________________________________________\n",
      "BatchNorm2d          [1, 24, 4, 4]        48         True      \n",
      "______________________________________________________________________\n",
      "Conv2d               [1, 24, 4, 4]        5,184      True      \n",
      "______________________________________________________________________\n",
      "ReLU                 [1, 24, 4, 4]        0          False     \n",
      "______________________________________________________________________\n",
      "BatchNorm2d          [1, 24, 4, 4]        48         True      \n",
      "______________________________________________________________________\n",
      "Conv2d               [1, 24, 4, 4]        5,184      True      \n",
      "______________________________________________________________________\n",
      "ReLU                 [1, 24, 4, 4]        0          False     \n",
      "______________________________________________________________________\n",
      "BatchNorm2d          [1, 24, 4, 4]        48         True      \n",
      "______________________________________________________________________\n",
      "Conv2d               [1, 24, 2, 2]        5,184      True      \n",
      "______________________________________________________________________\n",
      "ReLU                 [1, 24, 2, 2]        0          False     \n",
      "______________________________________________________________________\n",
      "BatchNorm2d          [1, 24, 2, 2]        48         True      \n",
      "______________________________________________________________________\n",
      "Conv2d               [1, 24, 2, 2]        5,184      True      \n",
      "______________________________________________________________________\n",
      "ReLU                 [1, 24, 2, 2]        0          False     \n",
      "______________________________________________________________________\n",
      "BatchNorm2d          [1, 24, 2, 2]        48         True      \n",
      "______________________________________________________________________\n",
      "Conv2d               [1, 24, 2, 2]        5,184      True      \n",
      "______________________________________________________________________\n",
      "ReLU                 [1, 24, 2, 2]        0          False     \n",
      "______________________________________________________________________\n",
      "BatchNorm2d          [1, 24, 2, 2]        48         True      \n",
      "______________________________________________________________________\n",
      "Conv2d               [1, 10, 1, 1]        2,160      True      \n",
      "______________________________________________________________________\n",
      "ReLU                 [1, 10, 1, 1]        0          False     \n",
      "______________________________________________________________________\n",
      "BatchNorm2d          [1, 10, 1, 1]        20         True      \n",
      "______________________________________________________________________\n",
      "Conv2d               [1, 10, 1, 1]        900        True      \n",
      "______________________________________________________________________\n",
      "ReLU                 [1, 10, 1, 1]        0          False     \n",
      "______________________________________________________________________\n",
      "BatchNorm2d          [1, 10, 1, 1]        20         True      \n",
      "______________________________________________________________________\n",
      "Conv2d               [1, 10, 1, 1]        900        True      \n",
      "______________________________________________________________________\n",
      "ReLU                 [1, 10, 1, 1]        0          False     \n",
      "______________________________________________________________________\n",
      "BatchNorm2d          [1, 10, 1, 1]        20         True      \n",
      "______________________________________________________________________\n",
      "Flatten              [1, 10]              0          False     \n",
      "______________________________________________________________________\n",
      "\n",
      "Total params: 36,978\n",
      "Total trainable params: 36,978\n",
      "Total non-trainable params: 0\n",
      "\n"
     ]
    }
   ],
   "source": [
    "print(learn.summary())"
   ]
  },
  {
   "cell_type": "code",
   "execution_count": 64,
   "metadata": {},
   "outputs": [
    {
     "data": {
      "text/html": [
       "Total time: 01:22 <p><table style='width:375px; margin-bottom:10px'>\n",
       "  <tr>\n",
       "    <th>epoch</th>\n",
       "    <th>train_loss</th>\n",
       "    <th>valid_loss</th>\n",
       "    <th>accuracy</th>\n",
       "    <th>time</th>\n",
       "  </tr>\n",
       "  <tr>\n",
       "    <th>1</th>\n",
       "    <th>0.071024</th>\n",
       "    <th>0.065646</th>\n",
       "    <th>0.979100</th>\n",
       "    <th>00:16</th>\n",
       "  </tr>\n",
       "  <tr>\n",
       "    <th>2</th>\n",
       "    <th>0.064409</th>\n",
       "    <th>0.078518</th>\n",
       "    <th>0.976100</th>\n",
       "    <th>00:16</th>\n",
       "  </tr>\n",
       "  <tr>\n",
       "    <th>3</th>\n",
       "    <th>0.060736</th>\n",
       "    <th>0.042919</th>\n",
       "    <th>0.985300</th>\n",
       "    <th>00:18</th>\n",
       "  </tr>\n",
       "  <tr>\n",
       "    <th>4</th>\n",
       "    <th>0.032952</th>\n",
       "    <th>0.027887</th>\n",
       "    <th>0.990000</th>\n",
       "    <th>00:16</th>\n",
       "  </tr>\n",
       "  <tr>\n",
       "    <th>5</th>\n",
       "    <th>0.021187</th>\n",
       "    <th>0.023634</th>\n",
       "    <th>0.992100</th>\n",
       "    <th>00:16</th>\n",
       "  </tr>\n",
       "</table>\n"
      ],
      "text/plain": [
       "<IPython.core.display.HTML object>"
      ]
     },
     "metadata": {},
     "output_type": "display_data"
    }
   ],
   "source": [
    "learn.fit_one_cycle(5, 3e-2)"
   ]
  },
  {
   "cell_type": "code",
   "execution_count": 65,
   "metadata": {},
   "outputs": [
    {
     "data": {
      "text/html": [
       "Total time: 01:32 <p><table style='width:375px; margin-bottom:10px'>\n",
       "  <tr>\n",
       "    <th>epoch</th>\n",
       "    <th>train_loss</th>\n",
       "    <th>valid_loss</th>\n",
       "    <th>accuracy</th>\n",
       "    <th>time</th>\n",
       "  </tr>\n",
       "  <tr>\n",
       "    <th>1</th>\n",
       "    <th>0.020654</th>\n",
       "    <th>0.024861</th>\n",
       "    <th>0.991800</th>\n",
       "    <th>00:17</th>\n",
       "  </tr>\n",
       "  <tr>\n",
       "    <th>2</th>\n",
       "    <th>0.018845</th>\n",
       "    <th>0.024641</th>\n",
       "    <th>0.992300</th>\n",
       "    <th>00:19</th>\n",
       "  </tr>\n",
       "  <tr>\n",
       "    <th>3</th>\n",
       "    <th>0.017017</th>\n",
       "    <th>0.025103</th>\n",
       "    <th>0.991600</th>\n",
       "    <th>00:19</th>\n",
       "  </tr>\n",
       "  <tr>\n",
       "    <th>4</th>\n",
       "    <th>0.017415</th>\n",
       "    <th>0.024940</th>\n",
       "    <th>0.991700</th>\n",
       "    <th>00:18</th>\n",
       "  </tr>\n",
       "  <tr>\n",
       "    <th>5</th>\n",
       "    <th>0.012938</th>\n",
       "    <th>0.025474</th>\n",
       "    <th>0.991800</th>\n",
       "    <th>00:16</th>\n",
       "  </tr>\n",
       "</table>\n"
      ],
      "text/plain": [
       "<IPython.core.display.HTML object>"
      ]
     },
     "metadata": {},
     "output_type": "display_data"
    }
   ],
   "source": [
    "learn.fit_one_cycle(5, 3e-3)"
   ]
  },
  {
   "cell_type": "code",
   "execution_count": null,
   "metadata": {},
   "outputs": [],
   "source": []
  }
 ],
 "metadata": {
  "kernelspec": {
   "display_name": "Python 3",
   "language": "python",
   "name": "python3"
  },
  "language_info": {
   "codemirror_mode": {
    "name": "ipython",
    "version": 3
   },
   "file_extension": ".py",
   "mimetype": "text/x-python",
   "name": "python",
   "nbconvert_exporter": "python",
   "pygments_lexer": "ipython3",
   "version": "3.7.1"
  }
 },
 "nbformat": 4,
 "nbformat_minor": 2
}
